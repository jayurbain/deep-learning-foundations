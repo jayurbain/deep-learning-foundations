{
 "cells": [
  {
   "cell_type": "markdown",
   "metadata": {
    "deletable": true,
    "editable": true
   },
   "source": [
    "# TV Script Generation\n",
    "\n",
    "Jay Urbain\n",
    "\n",
    "7/12/2017\n",
    "\n",
    "In this project, you'll generate your own [Simpsons](https://en.wikipedia.org/wiki/The_Simpsons) TV scripts using RNNs.  You'll be using part of the [Simpsons dataset](https://www.kaggle.com/wcukierski/the-simpsons-by-the-data) of scripts from 27 seasons.  The Neural Network you'll build will generate a new TV script for a scene at [Moe's Tavern](https://simpsonswiki.com/wiki/Moe's_Tavern).\n",
    "## Get the Data\n",
    "The data is already provided for you.  You'll be using a subset of the original dataset.  It consists of only the scenes in Moe's Tavern.  This doesn't include other versions of the tavern, like \"Moe's Cavern\", \"Flaming Moe's\", \"Uncle Moe's Family Feed-Bag\", etc.."
   ]
  },
  {
   "cell_type": "code",
   "execution_count": 1,
   "metadata": {
    "collapsed": true,
    "deletable": true,
    "editable": true
   },
   "outputs": [],
   "source": [
    "\"\"\"\n",
    "DON'T MODIFY ANYTHING IN THIS CELL\n",
    "\"\"\"\n",
    "import helper\n",
    "\n",
    "data_dir = './data/simpsons/moes_tavern_lines.txt'\n",
    "text = helper.load_data(data_dir)\n",
    "# Ignore notice, since we don't use it for analysing the data\n",
    "text = text[81:]"
   ]
  },
  {
   "cell_type": "markdown",
   "metadata": {
    "deletable": true,
    "editable": true
   },
   "source": [
    "## Explore the Data\n",
    "Play around with `view_sentence_range` to view different parts of the data."
   ]
  },
  {
   "cell_type": "code",
   "execution_count": 2,
   "metadata": {
    "collapsed": false,
    "deletable": true,
    "editable": true,
    "scrolled": true
   },
   "outputs": [
    {
     "name": "stdout",
     "output_type": "stream",
     "text": [
      "Dataset Stats\n",
      "Roughly the number of unique words: 11492\n",
      "Number of scenes: 262\n",
      "Average number of sentences in each scene: 15.248091603053435\n",
      "Number of lines: 4257\n",
      "Average number of words in each line: 11.50434578341555\n",
      "\n",
      "The sentences 0 to 10:\n",
      "Moe_Szyslak: (INTO PHONE) Moe's Tavern. Where the elite meet to drink.\n",
      "Bart_Simpson: Eh, yeah, hello, is Mike there? Last name, Rotch.\n",
      "Moe_Szyslak: (INTO PHONE) Hold on, I'll check. (TO BARFLIES) Mike Rotch. Mike Rotch. Hey, has anybody seen Mike Rotch, lately?\n",
      "Moe_Szyslak: (INTO PHONE) Listen you little puke. One of these days I'm gonna catch you, and I'm gonna carve my name on your back with an ice pick.\n",
      "Moe_Szyslak: What's the matter Homer? You're not your normal effervescent self.\n",
      "Homer_Simpson: I got my problems, Moe. Give me another one.\n",
      "Moe_Szyslak: Homer, hey, you should not drink to forget your problems.\n",
      "Barney_Gumble: Yeah, you should only drink to enhance your social skills.\n",
      "\n",
      "\n"
     ]
    }
   ],
   "source": [
    "view_sentence_range = (0, 10)\n",
    "\n",
    "\"\"\"\n",
    "DON'T MODIFY ANYTHING IN THIS CELL\n",
    "\"\"\"\n",
    "import numpy as np\n",
    "\n",
    "print('Dataset Stats')\n",
    "print('Roughly the number of unique words: {}'.format(len({word: None for word in text.split()})))\n",
    "scenes = text.split('\\n\\n')\n",
    "print('Number of scenes: {}'.format(len(scenes)))\n",
    "sentence_count_scene = [scene.count('\\n') for scene in scenes]\n",
    "print('Average number of sentences in each scene: {}'.format(np.average(sentence_count_scene)))\n",
    "\n",
    "sentences = [sentence for scene in scenes for sentence in scene.split('\\n')]\n",
    "print('Number of lines: {}'.format(len(sentences)))\n",
    "word_count_sentence = [len(sentence.split()) for sentence in sentences]\n",
    "print('Average number of words in each line: {}'.format(np.average(word_count_sentence)))\n",
    "\n",
    "print()\n",
    "print('The sentences {} to {}:'.format(*view_sentence_range))\n",
    "print('\\n'.join(text.split('\\n')[view_sentence_range[0]:view_sentence_range[1]]))"
   ]
  },
  {
   "cell_type": "markdown",
   "metadata": {
    "deletable": true,
    "editable": true
   },
   "source": [
    "## Implement Preprocessing Functions\n",
    "The first thing to do to any dataset is preprocessing.  Implement the following preprocessing functions below:\n",
    "- Lookup Table\n",
    "- Tokenize Punctuation\n",
    "\n",
    "### Lookup Table\n",
    "To create a word embedding, you first need to transform the words to ids.  In this function, create two dictionaries:\n",
    "- Dictionary to go from the words to an id, we'll call `vocab_to_int`\n",
    "- Dictionary to go from the id to word, we'll call `int_to_vocab`\n",
    "\n",
    "Return these dictionaries in the following tuple `(vocab_to_int, int_to_vocab)`"
   ]
  },
  {
   "cell_type": "code",
   "execution_count": 3,
   "metadata": {
    "collapsed": false,
    "deletable": true,
    "editable": true
   },
   "outputs": [
    {
     "name": "stdout",
     "output_type": "stream",
     "text": [
      "Tests Passed\n"
     ]
    }
   ],
   "source": [
    "import numpy as np\n",
    "import problem_unittests as tests\n",
    "\n",
    "def create_lookup_tables(text):\n",
    "    \"\"\"\n",
    "    Create lookup tables for vocabulary\n",
    "    :param text: The text of tv scripts split into words\n",
    "    :return: A tuple of dicts (vocab_to_int, int_to_vocab)\n",
    "    \"\"\"\n",
    "    # TODO: Implement Function\n",
    "    #return None, None\n",
    "    vocab_to_int = {w: i for i, w in enumerate(set(text))}\n",
    "    int_to_vocab = {i: w for i, w in enumerate(set(text))}\n",
    "    return vocab_to_int, int_to_vocab\n",
    "\n",
    "\"\"\"\n",
    "DON'T MODIFY ANYTHING IN THIS CELL THAT IS BELOW THIS LINE\n",
    "\"\"\"\n",
    "tests.test_create_lookup_tables(create_lookup_tables)"
   ]
  },
  {
   "cell_type": "markdown",
   "metadata": {
    "deletable": true,
    "editable": true
   },
   "source": [
    "### Tokenize Punctuation\n",
    "We'll be splitting the script into a word array using spaces as delimiters.  However, punctuations like periods and exclamation marks make it hard for the neural network to distinguish between the word \"bye\" and \"bye!\".\n",
    "\n",
    "Implement the function `token_lookup` to return a dict that will be used to tokenize symbols like \"!\" into \"||Exclamation_Mark||\".  Create a dictionary for the following symbols where the symbol is the key and value is the token:\n",
    "- Period ( . )\n",
    "- Comma ( , )\n",
    "- Quotation Mark ( \" )\n",
    "- Semicolon ( ; )\n",
    "- Exclamation mark ( ! )\n",
    "- Question mark ( ? )\n",
    "- Left Parentheses ( ( )\n",
    "- Right Parentheses ( ) )\n",
    "- Dash ( -- )\n",
    "- Return ( \\n )\n",
    "\n",
    "This dictionary will be used to token the symbols and add the delimiter (space) around it.  This separates the symbols as it's own word, making it easier for the neural network to predict on the next word. Make sure you don't use a token that could be confused as a word. Instead of using the token \"dash\", try using something like \"||dash||\"."
   ]
  },
  {
   "cell_type": "code",
   "execution_count": 4,
   "metadata": {
    "collapsed": false,
    "deletable": true,
    "editable": true
   },
   "outputs": [
    {
     "name": "stdout",
     "output_type": "stream",
     "text": [
      "Tests Passed\n"
     ]
    }
   ],
   "source": [
    "def token_lookup():\n",
    "    \"\"\"\n",
    "    Generate a dict to turn punctuation into a token.\n",
    "    :return: Tokenize dictionary where the key is the punctuation and the value is the token\n",
    "    \"\"\"\n",
    "    # TODO: Implement Function\n",
    "    return {\n",
    "        '.': '||Period||',\n",
    "        ',': '||Comma||',\n",
    "        '\"': '||Quotation_Mark||',\n",
    "        ';': '||Semicolon||',\n",
    "        '!': '||Exclamation_mark||',\n",
    "        '?': '||Question_mark||',\n",
    "        '(': '||Left_Parentheses||',\n",
    "        ')': '||Right_Parentheses||',\n",
    "        '--': '||Dash||',\n",
    "        '\\n': '||Return||'\n",
    "    }\n",
    "\n",
    "\"\"\"\n",
    "DON'T MODIFY ANYTHING IN THIS CELL THAT IS BELOW THIS LINE\n",
    "\"\"\"\n",
    "tests.test_tokenize(token_lookup)"
   ]
  },
  {
   "cell_type": "markdown",
   "metadata": {
    "deletable": true,
    "editable": true
   },
   "source": [
    "## Preprocess all the data and save it\n",
    "Running the code cell below will preprocess all the data and save it to file."
   ]
  },
  {
   "cell_type": "code",
   "execution_count": 5,
   "metadata": {
    "collapsed": true,
    "deletable": true,
    "editable": true
   },
   "outputs": [],
   "source": [
    "\"\"\"\n",
    "DON'T MODIFY ANYTHING IN THIS CELL\n",
    "\"\"\"\n",
    "# Preprocess Training, Validation, and Testing Data\n",
    "helper.preprocess_and_save_data(data_dir, token_lookup, create_lookup_tables)"
   ]
  },
  {
   "cell_type": "markdown",
   "metadata": {
    "deletable": true,
    "editable": true
   },
   "source": [
    "# Check Point\n",
    "This is your first checkpoint. If you ever decide to come back to this notebook or have to restart the notebook, you can start from here. The preprocessed data has been saved to disk."
   ]
  },
  {
   "cell_type": "code",
   "execution_count": 6,
   "metadata": {
    "collapsed": true,
    "deletable": true,
    "editable": true
   },
   "outputs": [],
   "source": [
    "\"\"\"\n",
    "DON'T MODIFY ANYTHING IN THIS CELL\n",
    "\"\"\"\n",
    "import helper\n",
    "import numpy as np\n",
    "import problem_unittests as tests\n",
    "\n",
    "int_text, vocab_to_int, int_to_vocab, token_dict = helper.load_preprocess()"
   ]
  },
  {
   "cell_type": "markdown",
   "metadata": {
    "deletable": true,
    "editable": true
   },
   "source": [
    "## Build the Neural Network\n",
    "You'll build the components necessary to build a RNN by implementing the following functions below:\n",
    "- get_inputs\n",
    "- get_init_cell\n",
    "- get_embed\n",
    "- build_rnn\n",
    "- build_nn\n",
    "- get_batches\n",
    "\n",
    "### Check the Version of TensorFlow and Access to GPU"
   ]
  },
  {
   "cell_type": "code",
   "execution_count": 7,
   "metadata": {
    "collapsed": false,
    "deletable": true,
    "editable": true
   },
   "outputs": [
    {
     "name": "stdout",
     "output_type": "stream",
     "text": [
      "TensorFlow Version: 1.0.0\n",
      "Default GPU Device: /gpu:0\n"
     ]
    }
   ],
   "source": [
    "\"\"\"\n",
    "DON'T MODIFY ANYTHING IN THIS CELL\n",
    "\"\"\"\n",
    "from distutils.version import LooseVersion\n",
    "import warnings\n",
    "import tensorflow as tf\n",
    "\n",
    "# Check TensorFlow Version\n",
    "assert LooseVersion(tf.__version__) >= LooseVersion('1.0'), 'Please use TensorFlow version 1.0 or newer'\n",
    "print('TensorFlow Version: {}'.format(tf.__version__))\n",
    "\n",
    "# Check for a GPU\n",
    "if not tf.test.gpu_device_name():\n",
    "    warnings.warn('No GPU found. Please use a GPU to train your neural network.')\n",
    "else:\n",
    "    print('Default GPU Device: {}'.format(tf.test.gpu_device_name()))"
   ]
  },
  {
   "cell_type": "markdown",
   "metadata": {
    "deletable": true,
    "editable": true
   },
   "source": [
    "### Input\n",
    "Implement the `get_inputs()` function to create TF Placeholders for the Neural Network.  It should create the following placeholders:\n",
    "- Input text placeholder named \"input\" using the [TF Placeholder](https://www.tensorflow.org/api_docs/python/tf/placeholder) `name` parameter.\n",
    "- Targets placeholder\n",
    "- Learning Rate placeholder\n",
    "\n",
    "Return the placeholders in the following tuple `(Input, Targets, LearningRate)`"
   ]
  },
  {
   "cell_type": "code",
   "execution_count": 8,
   "metadata": {
    "collapsed": false,
    "deletable": true,
    "editable": true
   },
   "outputs": [
    {
     "name": "stdout",
     "output_type": "stream",
     "text": [
      "Tests Passed\n"
     ]
    }
   ],
   "source": [
    "def get_inputs():\n",
    "    \"\"\"\n",
    "    Create TF Placeholders for input, targets, and learning rate.\n",
    "    :return: Tuple (input, targets, learning rate)\n",
    "    \"\"\"\n",
    "    # TODO: Implement Function\n",
    "    input = tf.placeholder(dtype=tf.int32, shape=[None, None], name='input')\n",
    "    targets = tf.placeholder(dtype=tf.int32, shape=[None, None], name='targets')\n",
    "    learning_rate = tf.placeholder(dtype=tf.float32, name='learning_rate')\n",
    "    return input, targets, learning_rate\n",
    "\n",
    "\n",
    "\"\"\"\n",
    "DON'T MODIFY ANYTHING IN THIS CELL THAT IS BELOW THIS LINE\n",
    "\"\"\"\n",
    "tests.test_get_inputs(get_inputs)"
   ]
  },
  {
   "cell_type": "markdown",
   "metadata": {
    "deletable": true,
    "editable": true
   },
   "source": [
    "### Build RNN Cell and Initialize\n",
    "Stack one or more [`BasicLSTMCells`](https://www.tensorflow.org/api_docs/python/tf/contrib/rnn/BasicLSTMCell) in a [`MultiRNNCell`](https://www.tensorflow.org/api_docs/python/tf/contrib/rnn/MultiRNNCell).\n",
    "- The Rnn size should be set using `rnn_size`\n",
    "- Initalize Cell State using the MultiRNNCell's [`zero_state()`](https://www.tensorflow.org/api_docs/python/tf/contrib/rnn/MultiRNNCell#zero_state) function\n",
    "    - Apply the name \"initial_state\" to the initial state using [`tf.identity()`](https://www.tensorflow.org/api_docs/python/tf/identity)\n",
    "\n",
    "Return the cell and initial state in the following tuple `(Cell, InitialState)`"
   ]
  },
  {
   "cell_type": "code",
   "execution_count": 9,
   "metadata": {
    "collapsed": false,
    "deletable": true,
    "editable": true
   },
   "outputs": [
    {
     "name": "stdout",
     "output_type": "stream",
     "text": [
      "Tests Passed\n"
     ]
    }
   ],
   "source": [
    "def get_init_cell(batch_size, rnn_size, keep_prob=0.8, layers=3):\n",
    "    \"\"\"\n",
    "    Create an RNN Cell and initialize it.\n",
    "    :param batch_size: Size of batches\n",
    "    :param rnn_size: Size of RNNs\n",
    "    :return: Tuple (cell, initialize state)\n",
    "    \"\"\"\n",
    "    cell = tf.contrib.rnn.BasicLSTMCell(rnn_size)\n",
    "    cell = tf.contrib.rnn.DropoutWrapper(cell, output_keep_prob=keep_prob)\n",
    "    multi = tf.contrib.rnn.MultiRNNCell([cell] * layers)\n",
    "    \n",
    "    #cell = tf.contrib.rnn.MultiRNNCell([tf.contrib.rnn.BasicLSTMCell(n_hidden) for _ in range(n_layers)])\n",
    "    \n",
    "    init_state = multi.zero_state(batch_size, tf.float32)\n",
    "    init_state = tf.identity(init_state, 'initial_state')\n",
    "    return multi, init_state\n",
    "\n",
    "\n",
    "\"\"\"\n",
    "DON'T MODIFY ANYTHING IN THIS CELL THAT IS BELOW THIS LINE\n",
    "\"\"\"\n",
    "tests.test_get_init_cell(get_init_cell)"
   ]
  },
  {
   "cell_type": "markdown",
   "metadata": {
    "deletable": true,
    "editable": true
   },
   "source": [
    "### Word Embedding\n",
    "Apply embedding to `input_data` using TensorFlow.  Return the embedded sequence."
   ]
  },
  {
   "cell_type": "code",
   "execution_count": 10,
   "metadata": {
    "collapsed": false,
    "deletable": true,
    "editable": true
   },
   "outputs": [
    {
     "name": "stdout",
     "output_type": "stream",
     "text": [
      "Tests Passed\n"
     ]
    }
   ],
   "source": [
    "def get_embed(input_data, vocab_size, embed_dim):\n",
    "    \"\"\"\n",
    "    Create embedding for <input_data>.\n",
    "    :param input_data: TF placeholder for text input.\n",
    "    :param vocab_size: Number of words in vocabulary.\n",
    "    :param embed_dim: Number of embedding dimensions\n",
    "    :return: Embedded input.\n",
    "    \"\"\"\n",
    "    # TODO: Implement Function\n",
    "    embeddings = tf.Variable(tf.random_uniform((vocab_size, embed_dim), -1, 1))\n",
    "    embed = tf.nn.embedding_lookup(embeddings, input_data)\n",
    "    return embed\n",
    "\n",
    "\n",
    "\"\"\"\n",
    "DON'T MODIFY ANYTHING IN THIS CELL THAT IS BELOW THIS LINE\n",
    "\"\"\"\n",
    "tests.test_get_embed(get_embed)"
   ]
  },
  {
   "cell_type": "markdown",
   "metadata": {
    "deletable": true,
    "editable": true
   },
   "source": [
    "### Build RNN\n",
    "You created a RNN Cell in the `get_init_cell()` function.  Time to use the cell to create a RNN.\n",
    "- Build the RNN using the [`tf.nn.dynamic_rnn()`](https://www.tensorflow.org/api_docs/python/tf/nn/dynamic_rnn)\n",
    " - Apply the name \"final_state\" to the final state using [`tf.identity()`](https://www.tensorflow.org/api_docs/python/tf/identity)\n",
    "\n",
    "Return the outputs and final_state state in the following tuple `(Outputs, FinalState)` "
   ]
  },
  {
   "cell_type": "code",
   "execution_count": 11,
   "metadata": {
    "collapsed": false,
    "deletable": true,
    "editable": true
   },
   "outputs": [
    {
     "name": "stdout",
     "output_type": "stream",
     "text": [
      "Tests Passed\n"
     ]
    }
   ],
   "source": [
    "def build_rnn(cell, inputs):\n",
    "    \"\"\"\n",
    "    Create a RNN using a RNN Cell\n",
    "    :param cell: RNN Cell\n",
    "    :param inputs: Input text data\n",
    "    :return: Tuple (Outputs, Final State)\n",
    "    \"\"\"\n",
    "    # TODO: Implement Function\n",
    "    outputs, final_state = tf.nn.dynamic_rnn(cell, inputs, dtype=tf.float32)\n",
    "    final_state = tf.identity(final_state, 'final_state')\n",
    "    return outputs, final_state\n",
    "\n",
    "\n",
    "\"\"\"\n",
    "DON'T MODIFY ANYTHING IN THIS CELL THAT IS BELOW THIS LINE\n",
    "\"\"\"\n",
    "tests.test_build_rnn(build_rnn)"
   ]
  },
  {
   "cell_type": "markdown",
   "metadata": {
    "deletable": true,
    "editable": true
   },
   "source": [
    "### Build the Neural Network\n",
    "Apply the functions you implemented above to:\n",
    "- Apply embedding to `input_data` using your `get_embed(input_data, vocab_size, embed_dim)` function.\n",
    "- Build RNN using `cell` and your `build_rnn(cell, inputs)` function.\n",
    "- Apply a fully connected layer with a linear activation and `vocab_size` as the number of outputs.\n",
    "\n",
    "Return the logits and final state in the following tuple (Logits, FinalState) "
   ]
  },
  {
   "cell_type": "code",
   "execution_count": 12,
   "metadata": {
    "collapsed": false,
    "deletable": true,
    "editable": true
   },
   "outputs": [
    {
     "name": "stdout",
     "output_type": "stream",
     "text": [
      "<class 'tensorflow.python.framework.ops.Tensor'>\n",
      "Tests Passed\n"
     ]
    }
   ],
   "source": [
    "def build_nn(cell, rnn_size, input_data, vocab_size, embed_dim):\n",
    "    \"\"\"\n",
    "    Build part of the neural network\n",
    "    :param cell: RNN cell\n",
    "    :param rnn_size: Size of rnns\n",
    "    :param input_data: Input data\n",
    "    :param vocab_size: Vocabulary size\n",
    "    :param embed_dim: Number of embedding dimensions\n",
    "    :return: Tuple (Logits, FinalState)\n",
    "    \"\"\"\n",
    "    # TODO: Implement Function\n",
    "    print( type(input_data) )\n",
    "    embed = get_embed(input_data, vocab_size, rnn_size)\n",
    "    outputs, final_state = build_rnn(cell, embed)\n",
    "    logits = tf.contrib.layers.fully_connected(outputs, vocab_size, activation_fn=None)\n",
    "    return logits, final_state\n",
    "\n",
    "\n",
    "\"\"\"\n",
    "DON'T MODIFY ANYTHING IN THIS CELL THAT IS BELOW THIS LINE\n",
    "\"\"\"\n",
    "tests.test_build_nn(build_nn)"
   ]
  },
  {
   "cell_type": "markdown",
   "metadata": {
    "deletable": true,
    "editable": true
   },
   "source": [
    "### Batches\n",
    "Implement `get_batches` to create batches of input and targets using `int_text`.  The batches should be a Numpy array with the shape `(number of batches, 2, batch size, sequence length)`. Each batch contains two elements:\n",
    "- The first element is a single batch of **input** with the shape `[batch size, sequence length]`\n",
    "- The second element is a single batch of **targets** with the shape `[batch size, sequence length]`\n",
    "\n",
    "If you can't fill the last batch with enough data, drop the last batch.\n",
    "\n",
    "For exmple, `get_batches([1, 2, 3, 4, 5, 6, 7, 8, 9, 10, 11, 12, 13, 14, 15, 16, 17, 18, 19, 20], 3, 2)` would return a Numpy array of the following:\n",
    "```\n",
    "[\n",
    "  # First Batch\n",
    "  [\n",
    "    # Batch of Input\n",
    "    [[ 1  2], [ 7  8], [13 14]]\n",
    "    # Batch of targets\n",
    "    [[ 2  3], [ 8  9], [14 15]]\n",
    "  ]\n",
    "\n",
    "  # Second Batch\n",
    "  [\n",
    "    # Batch of Input\n",
    "    [[ 3  4], [ 9 10], [15 16]]\n",
    "    # Batch of targets\n",
    "    [[ 4  5], [10 11], [16 17]]\n",
    "  ]\n",
    "\n",
    "  # Third Batch\n",
    "  [\n",
    "    # Batch of Input\n",
    "    [[ 5  6], [11 12], [17 18]]\n",
    "    # Batch of targets\n",
    "    [[ 6  7], [12 13], [18  1]]\n",
    "  ]\n",
    "]\n",
    "```\n",
    "\n",
    "Notice that the last target value in the last batch is the first input value of the first batch. In this case, `1`. This is a common technique used when creating sequence batches, although it is rather unintuitive."
   ]
  },
  {
   "cell_type": "code",
   "execution_count": 13,
   "metadata": {
    "collapsed": false,
    "deletable": true,
    "editable": true
   },
   "outputs": [
    {
     "name": "stdout",
     "output_type": "stream",
     "text": [
      "Tests Passed\n"
     ]
    }
   ],
   "source": [
    "def get_batches(int_text, batch_size, seq_length):\n",
    "    \"\"\"\n",
    "    Return batches of input and target\n",
    "    :param int_text: Text with the words replaced by their ids\n",
    "    :param batch_size: The size of batch\n",
    "    :param seq_length: The length of sequence\n",
    "    :return: Batches as a Numpy array\n",
    "    \"\"\"\n",
    "    # TODO: Implement Function\n",
    "    characters_per_batch = seq_length*batch_size\n",
    "    n_batches = len(int_text)//(characters_per_batch)\n",
    "    if n_batches > 0:\n",
    "        pass\n",
    "    else:\n",
    "        n_batches = 1\n",
    "    features = np.array(int_text[: n_batches*characters_per_batch])\n",
    "    targets = np.array(int_text[1: n_batches * characters_per_batch + 1])\n",
    "    if n_batches == 1:\n",
    "        targets = np.append(targets, features[0])\n",
    "    else:\n",
    "        targets[-1] = features[0]\n",
    "        x_batches = np.split(features.reshape(batch_size, -1), n_batches, axis=1)\n",
    "        y_batches = np.split(targets.reshape(batch_size, -1), n_batches, axis=1)\n",
    "    return np.array(list(zip(x_batches, y_batches)))\n",
    "\n",
    "\"\"\"\n",
    "DON'T MODIFY ANYTHING IN THIS CELL THAT IS BELOW THIS LINE\n",
    "\"\"\"\n",
    "tests.test_get_batches(get_batches)"
   ]
  },
  {
   "cell_type": "markdown",
   "metadata": {
    "deletable": true,
    "editable": true
   },
   "source": [
    "## Neural Network Training\n",
    "### Hyperparameters\n",
    "Tune the following parameters:\n",
    "\n",
    "- Set `num_epochs` to the number of epochs.\n",
    "- Set `batch_size` to the batch size.\n",
    "- Set `rnn_size` to the size of the RNNs.\n",
    "- Set `embed_dim` to the size of the embedding.\n",
    "- Set `seq_length` to the length of sequence.\n",
    "- Set `learning_rate` to the learning rate.\n",
    "- Set `show_every_n_batches` to the number of batches the neural network should print progress."
   ]
  },
  {
   "cell_type": "code",
   "execution_count": 14,
   "metadata": {
    "collapsed": true,
    "deletable": true,
    "editable": true
   },
   "outputs": [],
   "source": [
    "# Number of Epochs\n",
    "num_epochs = 500\n",
    "# Batch Size\n",
    "batch_size = 128\n",
    "# RNN Size\n",
    "rnn_size = 256\n",
    "# Embedding Dimension Size\n",
    "embed_dim = 200\n",
    "# Sequence Length\n",
    "seq_length = 25\n",
    "# Learning Rate\n",
    "learning_rate = 0.01\n",
    "# Show stats for every n number of batches\n",
    "show_every_n_batches = 25\n",
    "\n",
    "\"\"\"\n",
    "DON'T MODIFY ANYTHING IN THIS CELL THAT IS BELOW THIS LINE\n",
    "\"\"\"\n",
    "save_dir = './save'"
   ]
  },
  {
   "cell_type": "markdown",
   "metadata": {
    "deletable": true,
    "editable": true
   },
   "source": [
    "### Build the Graph\n",
    "Build the graph using the neural network you implemented."
   ]
  },
  {
   "cell_type": "code",
   "execution_count": 15,
   "metadata": {
    "collapsed": false,
    "deletable": true,
    "editable": true
   },
   "outputs": [
    {
     "name": "stdout",
     "output_type": "stream",
     "text": [
      "<class 'tensorflow.python.framework.ops.Tensor'>\n"
     ]
    }
   ],
   "source": [
    "\"\"\"\n",
    "DON'T MODIFY ANYTHING IN THIS CELL\n",
    "\"\"\"\n",
    "from tensorflow.contrib import seq2seq\n",
    "\n",
    "train_graph = tf.Graph()\n",
    "with train_graph.as_default():\n",
    "    vocab_size = len(int_to_vocab)\n",
    "    input_text, targets, lr = get_inputs()\n",
    "    input_data_shape = tf.shape(input_text)\n",
    "    cell, initial_state = get_init_cell(input_data_shape[0], rnn_size)\n",
    "    logits, final_state = build_nn(cell, rnn_size, input_text, vocab_size, embed_dim)\n",
    "\n",
    "    # Probabilities for generating words\n",
    "    probs = tf.nn.softmax(logits, name='probs')\n",
    "\n",
    "    # Loss function\n",
    "    cost = seq2seq.sequence_loss(\n",
    "        logits,\n",
    "        targets,\n",
    "        tf.ones([input_data_shape[0], input_data_shape[1]]))\n",
    "\n",
    "    # Optimizer\n",
    "    optimizer = tf.train.AdamOptimizer(lr)\n",
    "\n",
    "    # Gradient Clipping\n",
    "    gradients = optimizer.compute_gradients(cost)\n",
    "    capped_gradients = [(tf.clip_by_value(grad, -1., 1.), var) for grad, var in gradients if grad is not None]\n",
    "    train_op = optimizer.apply_gradients(capped_gradients)"
   ]
  },
  {
   "cell_type": "markdown",
   "metadata": {
    "deletable": true,
    "editable": true
   },
   "source": [
    "## Train\n",
    "Train the neural network on the preprocessed data.  If you have a hard time getting a good loss, check the [forms](https://discussions.udacity.com/) to see if anyone is having the same problem."
   ]
  },
  {
   "cell_type": "code",
   "execution_count": 16,
   "metadata": {
    "collapsed": false,
    "deletable": true,
    "editable": true
   },
   "outputs": [
    {
     "name": "stdout",
     "output_type": "stream",
     "text": [
      "Epoch   0 Batch    0/21   train_loss = 8.821\n",
      "Epoch   1 Batch    4/21   train_loss = 6.316\n",
      "Epoch   2 Batch    8/21   train_loss = 6.195\n",
      "Epoch   3 Batch   12/21   train_loss = 6.249\n",
      "Epoch   4 Batch   16/21   train_loss = 6.249\n",
      "Epoch   5 Batch   20/21   train_loss = 6.264\n",
      "Epoch   7 Batch    3/21   train_loss = 6.194\n",
      "Epoch   8 Batch    7/21   train_loss = 6.189\n",
      "Epoch   9 Batch   11/21   train_loss = 6.235\n",
      "Epoch  10 Batch   15/21   train_loss = 6.151\n",
      "Epoch  11 Batch   19/21   train_loss = 6.204\n",
      "Epoch  13 Batch    2/21   train_loss = 6.188\n",
      "Epoch  14 Batch    6/21   train_loss = 6.190\n",
      "Epoch  15 Batch   10/21   train_loss = 6.132\n",
      "Epoch  16 Batch   14/21   train_loss = 6.117\n",
      "Epoch  17 Batch   18/21   train_loss = 6.082\n",
      "Epoch  19 Batch    1/21   train_loss = 6.155\n",
      "Epoch  20 Batch    5/21   train_loss = 6.012\n",
      "Epoch  21 Batch    9/21   train_loss = 6.171\n",
      "Epoch  22 Batch   13/21   train_loss = 5.997\n",
      "Epoch  23 Batch   17/21   train_loss = 5.698\n",
      "Epoch  25 Batch    0/21   train_loss = 5.444\n",
      "Epoch  26 Batch    4/21   train_loss = 5.276\n",
      "Epoch  27 Batch    8/21   train_loss = 4.841\n",
      "Epoch  28 Batch   12/21   train_loss = 4.744\n",
      "Epoch  29 Batch   16/21   train_loss = 4.538\n",
      "Epoch  30 Batch   20/21   train_loss = 4.352\n",
      "Epoch  32 Batch    3/21   train_loss = 4.295\n",
      "Epoch  33 Batch    7/21   train_loss = 4.112\n",
      "Epoch  34 Batch   11/21   train_loss = 4.068\n",
      "Epoch  35 Batch   15/21   train_loss = 3.983\n",
      "Epoch  36 Batch   19/21   train_loss = 3.876\n",
      "Epoch  38 Batch    2/21   train_loss = 3.901\n",
      "Epoch  39 Batch    6/21   train_loss = 3.729\n",
      "Epoch  40 Batch   10/21   train_loss = 3.613\n",
      "Epoch  41 Batch   14/21   train_loss = 3.566\n",
      "Epoch  42 Batch   18/21   train_loss = 3.610\n",
      "Epoch  44 Batch    1/21   train_loss = 3.588\n",
      "Epoch  45 Batch    5/21   train_loss = 3.371\n",
      "Epoch  46 Batch    9/21   train_loss = 3.301\n",
      "Epoch  47 Batch   13/21   train_loss = 3.247\n",
      "Epoch  48 Batch   17/21   train_loss = 3.235\n",
      "Epoch  50 Batch    0/21   train_loss = 3.334\n",
      "Epoch  51 Batch    4/21   train_loss = 3.199\n",
      "Epoch  52 Batch    8/21   train_loss = 3.130\n",
      "Epoch  53 Batch   12/21   train_loss = 3.080\n",
      "Epoch  54 Batch   16/21   train_loss = 2.988\n",
      "Epoch  55 Batch   20/21   train_loss = 2.918\n",
      "Epoch  57 Batch    3/21   train_loss = 2.970\n",
      "Epoch  58 Batch    7/21   train_loss = 2.910\n",
      "Epoch  59 Batch   11/21   train_loss = 2.850\n",
      "Epoch  60 Batch   15/21   train_loss = 2.832\n",
      "Epoch  61 Batch   19/21   train_loss = 2.702\n",
      "Epoch  63 Batch    2/21   train_loss = 2.853\n",
      "Epoch  64 Batch    6/21   train_loss = 2.726\n",
      "Epoch  65 Batch   10/21   train_loss = 2.636\n",
      "Epoch  66 Batch   14/21   train_loss = 2.542\n",
      "Epoch  67 Batch   18/21   train_loss = 2.562\n",
      "Epoch  69 Batch    1/21   train_loss = 2.526\n",
      "Epoch  70 Batch    5/21   train_loss = 2.482\n",
      "Epoch  71 Batch    9/21   train_loss = 2.420\n",
      "Epoch  72 Batch   13/21   train_loss = 2.366\n",
      "Epoch  73 Batch   17/21   train_loss = 2.392\n",
      "Epoch  75 Batch    0/21   train_loss = 2.447\n",
      "Epoch  76 Batch    4/21   train_loss = 2.381\n",
      "Epoch  77 Batch    8/21   train_loss = 2.413\n",
      "Epoch  78 Batch   12/21   train_loss = 2.307\n",
      "Epoch  79 Batch   16/21   train_loss = 2.244\n",
      "Epoch  80 Batch   20/21   train_loss = 2.195\n",
      "Epoch  82 Batch    3/21   train_loss = 2.224\n",
      "Epoch  83 Batch    7/21   train_loss = 2.223\n",
      "Epoch  84 Batch   11/21   train_loss = 2.193\n",
      "Epoch  85 Batch   15/21   train_loss = 2.206\n",
      "Epoch  86 Batch   19/21   train_loss = 2.114\n",
      "Epoch  88 Batch    2/21   train_loss = 2.291\n",
      "Epoch  89 Batch    6/21   train_loss = 2.128\n",
      "Epoch  90 Batch   10/21   train_loss = 2.054\n",
      "Epoch  91 Batch   14/21   train_loss = 2.033\n",
      "Epoch  92 Batch   18/21   train_loss = 2.127\n",
      "Epoch  94 Batch    1/21   train_loss = 2.011\n",
      "Epoch  95 Batch    5/21   train_loss = 2.030\n",
      "Epoch  96 Batch    9/21   train_loss = 2.008\n",
      "Epoch  97 Batch   13/21   train_loss = 2.000\n",
      "Epoch  98 Batch   17/21   train_loss = 1.995\n",
      "Epoch 100 Batch    0/21   train_loss = 2.083\n",
      "Epoch 101 Batch    4/21   train_loss = 2.008\n",
      "Epoch 102 Batch    8/21   train_loss = 2.061\n",
      "Epoch 103 Batch   12/21   train_loss = 1.971\n",
      "Epoch 104 Batch   16/21   train_loss = 1.953\n",
      "Epoch 105 Batch   20/21   train_loss = 1.880\n",
      "Epoch 107 Batch    3/21   train_loss = 1.959\n",
      "Epoch 108 Batch    7/21   train_loss = 1.952\n",
      "Epoch 109 Batch   11/21   train_loss = 1.946\n",
      "Epoch 110 Batch   15/21   train_loss = 1.929\n",
      "Epoch 111 Batch   19/21   train_loss = 1.928\n",
      "Epoch 113 Batch    2/21   train_loss = 2.007\n",
      "Epoch 114 Batch    6/21   train_loss = 1.884\n",
      "Epoch 115 Batch   10/21   train_loss = 1.842\n",
      "Epoch 116 Batch   14/21   train_loss = 1.820\n",
      "Epoch 117 Batch   18/21   train_loss = 1.909\n",
      "Epoch 119 Batch    1/21   train_loss = 1.779\n",
      "Epoch 120 Batch    5/21   train_loss = 1.828\n",
      "Epoch 121 Batch    9/21   train_loss = 1.766\n",
      "Epoch 122 Batch   13/21   train_loss = 1.820\n",
      "Epoch 123 Batch   17/21   train_loss = 1.846\n",
      "Epoch 125 Batch    0/21   train_loss = 1.885\n",
      "Epoch 126 Batch    4/21   train_loss = 1.821\n",
      "Epoch 127 Batch    8/21   train_loss = 1.868\n",
      "Epoch 128 Batch   12/21   train_loss = 1.789\n",
      "Epoch 129 Batch   16/21   train_loss = 1.764\n",
      "Epoch 130 Batch   20/21   train_loss = 1.752\n",
      "Epoch 132 Batch    3/21   train_loss = 1.720\n",
      "Epoch 133 Batch    7/21   train_loss = 1.764\n",
      "Epoch 134 Batch   11/21   train_loss = 1.765\n",
      "Epoch 135 Batch   15/21   train_loss = 1.754\n",
      "Epoch 136 Batch   19/21   train_loss = 1.740\n",
      "Epoch 138 Batch    2/21   train_loss = 1.901\n",
      "Epoch 139 Batch    6/21   train_loss = 1.743\n",
      "Epoch 140 Batch   10/21   train_loss = 1.700\n",
      "Epoch 141 Batch   14/21   train_loss = 1.706\n",
      "Epoch 142 Batch   18/21   train_loss = 1.798\n",
      "Epoch 144 Batch    1/21   train_loss = 1.658\n",
      "Epoch 145 Batch    5/21   train_loss = 1.752\n",
      "Epoch 146 Batch    9/21   train_loss = 1.706\n",
      "Epoch 147 Batch   13/21   train_loss = 1.711\n",
      "Epoch 148 Batch   17/21   train_loss = 1.694\n",
      "Epoch 150 Batch    0/21   train_loss = 1.819\n",
      "Epoch 151 Batch    4/21   train_loss = 1.741\n",
      "Epoch 152 Batch    8/21   train_loss = 1.758\n",
      "Epoch 153 Batch   12/21   train_loss = 1.663\n",
      "Epoch 154 Batch   16/21   train_loss = 1.657\n",
      "Epoch 155 Batch   20/21   train_loss = 1.655\n",
      "Epoch 157 Batch    3/21   train_loss = 1.654\n",
      "Epoch 158 Batch    7/21   train_loss = 1.652\n",
      "Epoch 159 Batch   11/21   train_loss = 1.689\n",
      "Epoch 160 Batch   15/21   train_loss = 1.647\n",
      "Epoch 161 Batch   19/21   train_loss = 1.659\n",
      "Epoch 163 Batch    2/21   train_loss = 1.764\n",
      "Epoch 164 Batch    6/21   train_loss = 1.611\n",
      "Epoch 165 Batch   10/21   train_loss = 1.618\n",
      "Epoch 166 Batch   14/21   train_loss = 1.595\n",
      "Epoch 167 Batch   18/21   train_loss = 1.676\n",
      "Epoch 169 Batch    1/21   train_loss = 1.591\n",
      "Epoch 170 Batch    5/21   train_loss = 1.682\n",
      "Epoch 171 Batch    9/21   train_loss = 1.593\n",
      "Epoch 172 Batch   13/21   train_loss = 1.568\n",
      "Epoch 173 Batch   17/21   train_loss = 1.622\n",
      "Epoch 175 Batch    0/21   train_loss = 1.696\n",
      "Epoch 176 Batch    4/21   train_loss = 1.616\n",
      "Epoch 177 Batch    8/21   train_loss = 1.690\n",
      "Epoch 178 Batch   12/21   train_loss = 1.619\n",
      "Epoch 179 Batch   16/21   train_loss = 1.602\n",
      "Epoch 180 Batch   20/21   train_loss = 1.564\n",
      "Epoch 182 Batch    3/21   train_loss = 1.565\n",
      "Epoch 183 Batch    7/21   train_loss = 1.616\n",
      "Epoch 184 Batch   11/21   train_loss = 1.606\n",
      "Epoch 185 Batch   15/21   train_loss = 1.610\n",
      "Epoch 186 Batch   19/21   train_loss = 1.580\n",
      "Epoch 188 Batch    2/21   train_loss = 1.739\n",
      "Epoch 189 Batch    6/21   train_loss = 1.590\n",
      "Epoch 190 Batch   10/21   train_loss = 1.530\n",
      "Epoch 191 Batch   14/21   train_loss = 1.536\n",
      "Epoch 192 Batch   18/21   train_loss = 1.603\n",
      "Epoch 194 Batch    1/21   train_loss = 1.527\n",
      "Epoch 195 Batch    5/21   train_loss = 1.596\n",
      "Epoch 196 Batch    9/21   train_loss = 1.563\n",
      "Epoch 197 Batch   13/21   train_loss = 1.559\n",
      "Epoch 198 Batch   17/21   train_loss = 1.572\n",
      "Epoch 200 Batch    0/21   train_loss = 1.604\n",
      "Epoch 201 Batch    4/21   train_loss = 1.574\n",
      "Epoch 202 Batch    8/21   train_loss = 1.638\n",
      "Epoch 203 Batch   12/21   train_loss = 1.564\n",
      "Epoch 204 Batch   16/21   train_loss = 1.583\n",
      "Epoch 205 Batch   20/21   train_loss = 1.543\n",
      "Epoch 207 Batch    3/21   train_loss = 1.602\n",
      "Epoch 208 Batch    7/21   train_loss = 1.621\n",
      "Epoch 209 Batch   11/21   train_loss = 1.542\n",
      "Epoch 210 Batch   15/21   train_loss = 1.556\n",
      "Epoch 211 Batch   19/21   train_loss = 1.572\n",
      "Epoch 213 Batch    2/21   train_loss = 1.639\n",
      "Epoch 214 Batch    6/21   train_loss = 1.546\n",
      "Epoch 215 Batch   10/21   train_loss = 1.579\n",
      "Epoch 216 Batch   14/21   train_loss = 1.492\n",
      "Epoch 217 Batch   18/21   train_loss = 1.565\n",
      "Epoch 219 Batch    1/21   train_loss = 1.476\n",
      "Epoch 220 Batch    5/21   train_loss = 1.539\n",
      "Epoch 221 Batch    9/21   train_loss = 1.562\n",
      "Epoch 222 Batch   13/21   train_loss = 1.551\n",
      "Epoch 223 Batch   17/21   train_loss = 1.572\n",
      "Epoch 225 Batch    0/21   train_loss = 1.634\n",
      "Epoch 226 Batch    4/21   train_loss = 1.558\n",
      "Epoch 227 Batch    8/21   train_loss = 1.618\n",
      "Epoch 228 Batch   12/21   train_loss = 1.510\n",
      "Epoch 229 Batch   16/21   train_loss = 1.516\n",
      "Epoch 230 Batch   20/21   train_loss = 1.504\n",
      "Epoch 232 Batch    3/21   train_loss = 1.533\n",
      "Epoch 233 Batch    7/21   train_loss = 1.532\n",
      "Epoch 234 Batch   11/21   train_loss = 1.566\n",
      "Epoch 235 Batch   15/21   train_loss = 1.545\n",
      "Epoch 236 Batch   19/21   train_loss = 1.514\n",
      "Epoch 238 Batch    2/21   train_loss = 1.644\n",
      "Epoch 239 Batch    6/21   train_loss = 1.523\n",
      "Epoch 240 Batch   10/21   train_loss = 1.490\n",
      "Epoch 241 Batch   14/21   train_loss = 1.449\n",
      "Epoch 242 Batch   18/21   train_loss = 1.544\n",
      "Epoch 244 Batch    1/21   train_loss = 1.431\n",
      "Epoch 245 Batch    5/21   train_loss = 1.541\n",
      "Epoch 246 Batch    9/21   train_loss = 1.522\n",
      "Epoch 247 Batch   13/21   train_loss = 1.493\n",
      "Epoch 248 Batch   17/21   train_loss = 1.552\n",
      "Epoch 250 Batch    0/21   train_loss = 1.593\n",
      "Epoch 251 Batch    4/21   train_loss = 1.517\n",
      "Epoch 252 Batch    8/21   train_loss = 1.564\n",
      "Epoch 253 Batch   12/21   train_loss = 1.457\n",
      "Epoch 254 Batch   16/21   train_loss = 1.513\n",
      "Epoch 255 Batch   20/21   train_loss = 1.541\n",
      "Epoch 257 Batch    3/21   train_loss = 1.494\n",
      "Epoch 258 Batch    7/21   train_loss = 1.498\n",
      "Epoch 259 Batch   11/21   train_loss = 1.504\n",
      "Epoch 260 Batch   15/21   train_loss = 1.509\n",
      "Epoch 261 Batch   19/21   train_loss = 1.513\n",
      "Epoch 263 Batch    2/21   train_loss = 1.630\n",
      "Epoch 264 Batch    6/21   train_loss = 1.521\n",
      "Epoch 265 Batch   10/21   train_loss = 1.492\n",
      "Epoch 266 Batch   14/21   train_loss = 1.411\n",
      "Epoch 267 Batch   18/21   train_loss = 1.542\n",
      "Epoch 269 Batch    1/21   train_loss = 1.438\n",
      "Epoch 270 Batch    5/21   train_loss = 1.477\n",
      "Epoch 271 Batch    9/21   train_loss = 1.473\n",
      "Epoch 272 Batch   13/21   train_loss = 1.446\n",
      "Epoch 273 Batch   17/21   train_loss = 1.465\n",
      "Epoch 275 Batch    0/21   train_loss = 1.508\n",
      "Epoch 276 Batch    4/21   train_loss = 1.471\n",
      "Epoch 277 Batch    8/21   train_loss = 1.546\n",
      "Epoch 278 Batch   12/21   train_loss = 1.517\n",
      "Epoch 279 Batch   16/21   train_loss = 1.482\n",
      "Epoch 280 Batch   20/21   train_loss = 1.432\n",
      "Epoch 282 Batch    3/21   train_loss = 1.482\n",
      "Epoch 283 Batch    7/21   train_loss = 1.475\n",
      "Epoch 284 Batch   11/21   train_loss = 1.448\n",
      "Epoch 285 Batch   15/21   train_loss = 1.512\n",
      "Epoch 286 Batch   19/21   train_loss = 1.506\n",
      "Epoch 288 Batch    2/21   train_loss = 1.586\n",
      "Epoch 289 Batch    6/21   train_loss = 1.487\n",
      "Epoch 290 Batch   10/21   train_loss = 1.526\n",
      "Epoch 291 Batch   14/21   train_loss = 1.447\n",
      "Epoch 292 Batch   18/21   train_loss = 1.528\n",
      "Epoch 294 Batch    1/21   train_loss = 1.465\n",
      "Epoch 295 Batch    5/21   train_loss = 1.483\n",
      "Epoch 296 Batch    9/21   train_loss = 1.509\n",
      "Epoch 297 Batch   13/21   train_loss = 1.437\n",
      "Epoch 298 Batch   17/21   train_loss = 1.458\n",
      "Epoch 300 Batch    0/21   train_loss = 1.524\n",
      "Epoch 301 Batch    4/21   train_loss = 1.485\n",
      "Epoch 302 Batch    8/21   train_loss = 1.548\n",
      "Epoch 303 Batch   12/21   train_loss = 1.472\n",
      "Epoch 304 Batch   16/21   train_loss = 1.482\n",
      "Epoch 305 Batch   20/21   train_loss = 1.466\n",
      "Epoch 307 Batch    3/21   train_loss = 1.502\n",
      "Epoch 308 Batch    7/21   train_loss = 1.462\n",
      "Epoch 309 Batch   11/21   train_loss = 1.486\n",
      "Epoch 310 Batch   15/21   train_loss = 1.563\n",
      "Epoch 311 Batch   19/21   train_loss = 1.498\n",
      "Epoch 313 Batch    2/21   train_loss = 1.600\n",
      "Epoch 314 Batch    6/21   train_loss = 1.485\n",
      "Epoch 315 Batch   10/21   train_loss = 1.467\n",
      "Epoch 316 Batch   14/21   train_loss = 1.387\n",
      "Epoch 317 Batch   18/21   train_loss = 1.545\n",
      "Epoch 319 Batch    1/21   train_loss = 1.428\n",
      "Epoch 320 Batch    5/21   train_loss = 1.513\n",
      "Epoch 321 Batch    9/21   train_loss = 1.488\n",
      "Epoch 322 Batch   13/21   train_loss = 1.500\n",
      "Epoch 323 Batch   17/21   train_loss = 1.503\n",
      "Epoch 325 Batch    0/21   train_loss = 1.580\n",
      "Epoch 326 Batch    4/21   train_loss = 1.490\n",
      "Epoch 327 Batch    8/21   train_loss = 1.577\n",
      "Epoch 328 Batch   12/21   train_loss = 1.477\n",
      "Epoch 329 Batch   16/21   train_loss = 1.451\n",
      "Epoch 330 Batch   20/21   train_loss = 1.514\n",
      "Epoch 332 Batch    3/21   train_loss = 1.474\n",
      "Epoch 333 Batch    7/21   train_loss = 1.504\n",
      "Epoch 334 Batch   11/21   train_loss = 1.551\n",
      "Epoch 335 Batch   15/21   train_loss = 1.483\n",
      "Epoch 336 Batch   19/21   train_loss = 1.534\n",
      "Epoch 338 Batch    2/21   train_loss = 1.628\n",
      "Epoch 339 Batch    6/21   train_loss = 1.509\n",
      "Epoch 340 Batch   10/21   train_loss = 1.529\n",
      "Epoch 341 Batch   14/21   train_loss = 1.456\n",
      "Epoch 342 Batch   18/21   train_loss = 1.597\n",
      "Epoch 344 Batch    1/21   train_loss = 1.468\n",
      "Epoch 345 Batch    5/21   train_loss = 1.488\n",
      "Epoch 346 Batch    9/21   train_loss = 1.469\n",
      "Epoch 347 Batch   13/21   train_loss = 1.487\n",
      "Epoch 348 Batch   17/21   train_loss = 1.536\n",
      "Epoch 350 Batch    0/21   train_loss = 1.534\n",
      "Epoch 351 Batch    4/21   train_loss = 1.497\n",
      "Epoch 352 Batch    8/21   train_loss = 1.519\n",
      "Epoch 353 Batch   12/21   train_loss = 1.517\n",
      "Epoch 354 Batch   16/21   train_loss = 1.502\n",
      "Epoch 355 Batch   20/21   train_loss = 1.459\n",
      "Epoch 357 Batch    3/21   train_loss = 1.527\n",
      "Epoch 358 Batch    7/21   train_loss = 1.498\n",
      "Epoch 359 Batch   11/21   train_loss = 1.521\n",
      "Epoch 360 Batch   15/21   train_loss = 1.466\n",
      "Epoch 361 Batch   19/21   train_loss = 1.479\n",
      "Epoch 363 Batch    2/21   train_loss = 1.625\n",
      "Epoch 364 Batch    6/21   train_loss = 1.492\n",
      "Epoch 365 Batch   10/21   train_loss = 1.540\n",
      "Epoch 366 Batch   14/21   train_loss = 1.426\n",
      "Epoch 367 Batch   18/21   train_loss = 1.529\n",
      "Epoch 369 Batch    1/21   train_loss = 1.446\n",
      "Epoch 370 Batch    5/21   train_loss = 1.495\n",
      "Epoch 371 Batch    9/21   train_loss = 1.500\n",
      "Epoch 372 Batch   13/21   train_loss = 1.476\n",
      "Epoch 373 Batch   17/21   train_loss = 1.506\n",
      "Epoch 375 Batch    0/21   train_loss = 1.558\n",
      "Epoch 376 Batch    4/21   train_loss = 1.467\n",
      "Epoch 377 Batch    8/21   train_loss = 1.576\n",
      "Epoch 378 Batch   12/21   train_loss = 1.517\n",
      "Epoch 379 Batch   16/21   train_loss = 1.430\n",
      "Epoch 380 Batch   20/21   train_loss = 1.453\n",
      "Epoch 382 Batch    3/21   train_loss = 1.483\n",
      "Epoch 383 Batch    7/21   train_loss = 1.537\n",
      "Epoch 384 Batch   11/21   train_loss = 1.546\n",
      "Epoch 385 Batch   15/21   train_loss = 1.485\n",
      "Epoch 386 Batch   19/21   train_loss = 1.516\n",
      "Epoch 388 Batch    2/21   train_loss = 1.602\n",
      "Epoch 389 Batch    6/21   train_loss = 1.477\n",
      "Epoch 390 Batch   10/21   train_loss = 1.482\n",
      "Epoch 391 Batch   14/21   train_loss = 1.434\n",
      "Epoch 392 Batch   18/21   train_loss = 1.532\n",
      "Epoch 394 Batch    1/21   train_loss = 1.412\n",
      "Epoch 395 Batch    5/21   train_loss = 1.442\n",
      "Epoch 396 Batch    9/21   train_loss = 1.452\n",
      "Epoch 397 Batch   13/21   train_loss = 1.515\n",
      "Epoch 398 Batch   17/21   train_loss = 1.473\n",
      "Epoch 400 Batch    0/21   train_loss = 1.581\n",
      "Epoch 401 Batch    4/21   train_loss = 1.437\n",
      "Epoch 402 Batch    8/21   train_loss = 1.487\n",
      "Epoch 403 Batch   12/21   train_loss = 1.489\n",
      "Epoch 404 Batch   16/21   train_loss = 1.458\n",
      "Epoch 405 Batch   20/21   train_loss = 1.477\n",
      "Epoch 407 Batch    3/21   train_loss = 1.477\n",
      "Epoch 408 Batch    7/21   train_loss = 1.463\n",
      "Epoch 409 Batch   11/21   train_loss = 1.470\n",
      "Epoch 410 Batch   15/21   train_loss = 1.443\n",
      "Epoch 411 Batch   19/21   train_loss = 1.477\n",
      "Epoch 413 Batch    2/21   train_loss = 1.604\n",
      "Epoch 414 Batch    6/21   train_loss = 1.508\n",
      "Epoch 415 Batch   10/21   train_loss = 1.467\n",
      "Epoch 416 Batch   14/21   train_loss = 1.509\n",
      "Epoch 417 Batch   18/21   train_loss = 1.529\n",
      "Epoch 419 Batch    1/21   train_loss = 1.452\n",
      "Epoch 420 Batch    5/21   train_loss = 1.486\n",
      "Epoch 421 Batch    9/21   train_loss = 1.503\n",
      "Epoch 422 Batch   13/21   train_loss = 1.496\n",
      "Epoch 423 Batch   17/21   train_loss = 1.513\n",
      "Epoch 425 Batch    0/21   train_loss = 1.576\n",
      "Epoch 426 Batch    4/21   train_loss = 1.536\n",
      "Epoch 427 Batch    8/21   train_loss = 1.567\n",
      "Epoch 428 Batch   12/21   train_loss = 1.501\n",
      "Epoch 429 Batch   16/21   train_loss = 1.504\n",
      "Epoch 430 Batch   20/21   train_loss = 1.506\n",
      "Epoch 432 Batch    3/21   train_loss = 1.499\n",
      "Epoch 433 Batch    7/21   train_loss = 1.474\n",
      "Epoch 434 Batch   11/21   train_loss = 1.510\n",
      "Epoch 435 Batch   15/21   train_loss = 1.492\n",
      "Epoch 436 Batch   19/21   train_loss = 1.557\n",
      "Epoch 438 Batch    2/21   train_loss = 1.574\n",
      "Epoch 439 Batch    6/21   train_loss = 1.476\n",
      "Epoch 440 Batch   10/21   train_loss = 1.457\n",
      "Epoch 441 Batch   14/21   train_loss = 1.450\n",
      "Epoch 442 Batch   18/21   train_loss = 1.529\n",
      "Epoch 444 Batch    1/21   train_loss = 1.473\n",
      "Epoch 445 Batch    5/21   train_loss = 1.464\n",
      "Epoch 446 Batch    9/21   train_loss = 1.465\n",
      "Epoch 447 Batch   13/21   train_loss = 1.531\n",
      "Epoch 448 Batch   17/21   train_loss = 1.542\n",
      "Epoch 450 Batch    0/21   train_loss = 1.584\n",
      "Epoch 451 Batch    4/21   train_loss = 1.524\n",
      "Epoch 452 Batch    8/21   train_loss = 1.546\n",
      "Epoch 453 Batch   12/21   train_loss = 1.495\n",
      "Epoch 454 Batch   16/21   train_loss = 1.487\n",
      "Epoch 455 Batch   20/21   train_loss = 1.559\n",
      "Epoch 457 Batch    3/21   train_loss = 1.489\n",
      "Epoch 458 Batch    7/21   train_loss = 1.479\n",
      "Epoch 459 Batch   11/21   train_loss = 1.523\n",
      "Epoch 460 Batch   15/21   train_loss = 1.531\n",
      "Epoch 461 Batch   19/21   train_loss = 1.552\n",
      "Epoch 463 Batch    2/21   train_loss = 1.588\n",
      "Epoch 464 Batch    6/21   train_loss = 1.475\n",
      "Epoch 465 Batch   10/21   train_loss = 1.496\n",
      "Epoch 466 Batch   14/21   train_loss = 1.451\n",
      "Epoch 467 Batch   18/21   train_loss = 1.536\n",
      "Epoch 469 Batch    1/21   train_loss = 1.460\n",
      "Epoch 470 Batch    5/21   train_loss = 1.461\n",
      "Epoch 471 Batch    9/21   train_loss = 1.474\n",
      "Epoch 472 Batch   13/21   train_loss = 1.538\n",
      "Epoch 473 Batch   17/21   train_loss = 1.521\n",
      "Epoch 475 Batch    0/21   train_loss = 1.586\n",
      "Epoch 476 Batch    4/21   train_loss = 1.486\n",
      "Epoch 477 Batch    8/21   train_loss = 1.544\n",
      "Epoch 478 Batch   12/21   train_loss = 1.507\n",
      "Epoch 479 Batch   16/21   train_loss = 1.501\n",
      "Epoch 480 Batch   20/21   train_loss = 1.499\n",
      "Epoch 482 Batch    3/21   train_loss = 1.471\n",
      "Epoch 483 Batch    7/21   train_loss = 1.489\n",
      "Epoch 484 Batch   11/21   train_loss = 1.502\n",
      "Epoch 485 Batch   15/21   train_loss = 1.538\n",
      "Epoch 486 Batch   19/21   train_loss = 1.496\n",
      "Epoch 488 Batch    2/21   train_loss = 1.580\n",
      "Epoch 489 Batch    6/21   train_loss = 1.515\n",
      "Epoch 490 Batch   10/21   train_loss = 1.429\n",
      "Epoch 491 Batch   14/21   train_loss = 1.467\n",
      "Epoch 492 Batch   18/21   train_loss = 1.518\n",
      "Epoch 494 Batch    1/21   train_loss = 1.445\n",
      "Epoch 495 Batch    5/21   train_loss = 1.456\n",
      "Epoch 496 Batch    9/21   train_loss = 1.463\n",
      "Epoch 497 Batch   13/21   train_loss = 1.520\n",
      "Epoch 498 Batch   17/21   train_loss = 1.513\n",
      "Model Trained and Saved\n"
     ]
    }
   ],
   "source": [
    "\"\"\"\n",
    "DON'T MODIFY ANYTHING IN THIS CELL\n",
    "\"\"\"\n",
    "batches = get_batches(int_text, batch_size, seq_length)\n",
    "\n",
    "with tf.Session(graph=train_graph) as sess:\n",
    "    sess.run(tf.global_variables_initializer())\n",
    "\n",
    "    for epoch_i in range(num_epochs):\n",
    "        state = sess.run(initial_state, {input_text: batches[0][0]})\n",
    "\n",
    "        for batch_i, (x, y) in enumerate(batches):\n",
    "            feed = {\n",
    "                input_text: x,\n",
    "                targets: y,\n",
    "                initial_state: state,\n",
    "                lr: learning_rate}\n",
    "            train_loss, state, _ = sess.run([cost, final_state, train_op], feed)\n",
    "\n",
    "            # Show every <show_every_n_batches> batches\n",
    "            if (epoch_i * len(batches) + batch_i) % show_every_n_batches == 0:\n",
    "                print('Epoch {:>3} Batch {:>4}/{}   train_loss = {:.3f}'.format(\n",
    "                    epoch_i,\n",
    "                    batch_i,\n",
    "                    len(batches),\n",
    "                    train_loss))\n",
    "\n",
    "    # Save Model\n",
    "    saver = tf.train.Saver()\n",
    "    saver.save(sess, save_dir)\n",
    "    print('Model Trained and Saved')"
   ]
  },
  {
   "cell_type": "markdown",
   "metadata": {
    "deletable": true,
    "editable": true
   },
   "source": [
    "## Save Parameters\n",
    "Save `seq_length` and `save_dir` for generating a new TV script."
   ]
  },
  {
   "cell_type": "code",
   "execution_count": 17,
   "metadata": {
    "collapsed": true,
    "deletable": true,
    "editable": true
   },
   "outputs": [],
   "source": [
    "\"\"\"\n",
    "DON'T MODIFY ANYTHING IN THIS CELL\n",
    "\"\"\"\n",
    "# Save parameters for checkpoint\n",
    "helper.save_params((seq_length, save_dir))"
   ]
  },
  {
   "cell_type": "markdown",
   "metadata": {
    "deletable": true,
    "editable": true
   },
   "source": [
    "# Checkpoint"
   ]
  },
  {
   "cell_type": "code",
   "execution_count": 18,
   "metadata": {
    "collapsed": true,
    "deletable": true,
    "editable": true
   },
   "outputs": [],
   "source": [
    "\"\"\"\n",
    "DON'T MODIFY ANYTHING IN THIS CELL\n",
    "\"\"\"\n",
    "import tensorflow as tf\n",
    "import numpy as np\n",
    "import helper\n",
    "import problem_unittests as tests\n",
    "\n",
    "_, vocab_to_int, int_to_vocab, token_dict = helper.load_preprocess()\n",
    "seq_length, load_dir = helper.load_params()"
   ]
  },
  {
   "cell_type": "markdown",
   "metadata": {
    "deletable": true,
    "editable": true
   },
   "source": [
    "## Implement Generate Functions\n",
    "### Get Tensors\n",
    "Get tensors from `loaded_graph` using the function [`get_tensor_by_name()`](https://www.tensorflow.org/api_docs/python/tf/Graph#get_tensor_by_name).  Get the tensors using the following names:\n",
    "- \"input:0\"\n",
    "- \"initial_state:0\"\n",
    "- \"final_state:0\"\n",
    "- \"probs:0\"\n",
    "\n",
    "Return the tensors in the following tuple `(InputTensor, InitialStateTensor, FinalStateTensor, ProbsTensor)` "
   ]
  },
  {
   "cell_type": "code",
   "execution_count": 19,
   "metadata": {
    "collapsed": false,
    "deletable": true,
    "editable": true
   },
   "outputs": [
    {
     "name": "stdout",
     "output_type": "stream",
     "text": [
      "Tests Passed\n"
     ]
    }
   ],
   "source": [
    "def get_tensors(loaded_graph):\n",
    "    \"\"\"\n",
    "    Get input, initial state, final state, and probabilities tensor from <loaded_graph>\n",
    "    :param loaded_graph: TensorFlow graph loaded from file\n",
    "    :return: Tuple (InputTensor, InitialStateTensor, FinalStateTensor, ProbsTensor)\n",
    "    \"\"\"\n",
    "    # TODO: Implement Function\n",
    "    inputs = loaded_graph.get_tensor_by_name('input:0')\n",
    "    init_state = loaded_graph.get_tensor_by_name('initial_state:0')\n",
    "    final_state = loaded_graph.get_tensor_by_name('final_state:0')\n",
    "    probs = loaded_graph.get_tensor_by_name('probs:0')\n",
    "    return inputs, init_state, final_state, probs\n",
    "\n",
    "\n",
    "\"\"\"\n",
    "DON'T MODIFY ANYTHING IN THIS CELL THAT IS BELOW THIS LINE\n",
    "\"\"\"\n",
    "tests.test_get_tensors(get_tensors)"
   ]
  },
  {
   "cell_type": "markdown",
   "metadata": {
    "deletable": true,
    "editable": true
   },
   "source": [
    "### Choose Word\n",
    "Implement the `pick_word()` function to select the next word using `probabilities`."
   ]
  },
  {
   "cell_type": "code",
   "execution_count": 20,
   "metadata": {
    "collapsed": false,
    "deletable": true,
    "editable": true
   },
   "outputs": [
    {
     "name": "stdout",
     "output_type": "stream",
     "text": [
      "Tests Passed\n"
     ]
    }
   ],
   "source": [
    "def pick_word(probabilities, int_to_vocab):\n",
    "    \"\"\"\n",
    "    Pick the next word in the generated text\n",
    "    :param probabilities: Probabilites of the next word\n",
    "    :param int_to_vocab: Dictionary of word ids as the keys and words as the values\n",
    "    :return: String of the predicted word\n",
    "    \"\"\"\n",
    "    # TODO: Implement Function\n",
    "    return int_to_vocab[np.argmax(probabilities)]\n",
    "\n",
    "\n",
    "\"\"\"\n",
    "DON'T MODIFY ANYTHING IN THIS CELL THAT IS BELOW THIS LINE\n",
    "\"\"\"\n",
    "tests.test_pick_word(pick_word)"
   ]
  },
  {
   "cell_type": "markdown",
   "metadata": {
    "deletable": true,
    "editable": true
   },
   "source": [
    "## Generate TV Script\n",
    "This will generate the TV script for you.  Set `gen_length` to the length of TV script you want to generate."
   ]
  },
  {
   "cell_type": "code",
   "execution_count": 21,
   "metadata": {
    "collapsed": false,
    "deletable": true,
    "editable": true
   },
   "outputs": [
    {
     "name": "stdout",
     "output_type": "stream",
     "text": [
      "moe_szyslak: yeah, three times.\n",
      "moe_szyslak:(excited) hey, homer, you're looking on my bar!(chuckle) i(drink) fine...(starts out) uncreeped-out ya.\n",
      "moe_szyslak: ah, excuse me, i s'pose you want to do you say your scrape.\n",
      "ned_flanders: c'mon. what're you, crazy, i'd'a go? my last angry in the other noose.(then beer)\n",
      "\n",
      "\n",
      "homer_simpson:(mr. marge!\n",
      "moe_szyslak:(to) man, now i may you stop me?\n",
      "moe_szyslak:(jerk) nobody loves what is you.\n",
      "homer_simpson:(tough) oh, moe, i didn't get artie coming than my family?\n",
      "coach: okay, okay. i could have a guys.\n",
      "homer_simpson:(cutting it artie) too needs me?\n",
      "moe_szyslak: hold the phone,(his girl) talk. my last dinner, a thing i never seen was the partner. what you had these pub.\n",
      "artie_ziff: moe, welcome in here. you had to give a new\n"
     ]
    }
   ],
   "source": [
    "gen_length = 200\n",
    "# homer_simpson, moe_szyslak, or Barney_Gumble\n",
    "prime_word = 'moe_szyslak'\n",
    "\n",
    "\"\"\"\n",
    "DON'T MODIFY ANYTHING IN THIS CELL THAT IS BELOW THIS LINE\n",
    "\"\"\"\n",
    "loaded_graph = tf.Graph()\n",
    "with tf.Session(graph=loaded_graph) as sess:\n",
    "    # Load saved model\n",
    "    loader = tf.train.import_meta_graph(load_dir + '.meta')\n",
    "    loader.restore(sess, load_dir)\n",
    "\n",
    "    # Get Tensors from loaded model\n",
    "    input_text, initial_state, final_state, probs = get_tensors(loaded_graph)\n",
    "\n",
    "    # Sentences generation setup\n",
    "    gen_sentences = [prime_word + ':']\n",
    "    prev_state = sess.run(initial_state, {input_text: np.array([[1]])})\n",
    "\n",
    "    # Generate sentences\n",
    "    for n in range(gen_length):\n",
    "        # Dynamic Input\n",
    "        dyn_input = [[vocab_to_int[word] for word in gen_sentences[-seq_length:]]]\n",
    "        dyn_seq_length = len(dyn_input[0])\n",
    "\n",
    "        # Get Prediction\n",
    "        probabilities, prev_state = sess.run(\n",
    "            [probs, final_state],\n",
    "            {input_text: dyn_input, initial_state: prev_state})\n",
    "        \n",
    "        pred_word = pick_word(probabilities[dyn_seq_length-1], int_to_vocab)\n",
    "\n",
    "        gen_sentences.append(pred_word)\n",
    "    \n",
    "    # Remove tokens\n",
    "    tv_script = ' '.join(gen_sentences)\n",
    "    for key, token in token_dict.items():\n",
    "        ending = ' ' if key in ['\\n', '(', '\"'] else ''\n",
    "        tv_script = tv_script.replace(' ' + token.lower(), key)\n",
    "    tv_script = tv_script.replace('\\n ', '\\n')\n",
    "    tv_script = tv_script.replace('( ', '(')\n",
    "        \n",
    "    print(tv_script)"
   ]
  },
  {
   "cell_type": "markdown",
   "metadata": {
    "deletable": true,
    "editable": true
   },
   "source": [
    "# The TV Script is Nonsensical\n",
    "It's ok if the TV script doesn't make any sense.  We trained on less than a megabyte of text.  In order to get good results, you'll have to use a smaller vocabulary or get more data.  Luckly there's more data!  As we mentioned in the begging of this project, this is a subset of [another dataset](https://www.kaggle.com/wcukierski/the-simpsons-by-the-data).  We didn't have you train on all the data, because that would take too long.  However, you are free to train your neural network on all the data.  After you complete the project, of course.\n",
    "# Submitting This Project\n",
    "When submitting this project, make sure to run all the cells before saving the notebook. Save the notebook file as \"dlnd_tv_script_generation.ipynb\" and save it as a HTML file under \"File\" -> \"Download as\". Include the \"helper.py\" and \"problem_unittests.py\" files in your submission."
   ]
  },
  {
   "cell_type": "code",
   "execution_count": null,
   "metadata": {
    "collapsed": true,
    "deletable": true,
    "editable": true
   },
   "outputs": [],
   "source": []
  }
 ],
 "metadata": {
  "anaconda-cloud": {},
  "kernelspec": {
   "display_name": "Python 3",
   "language": "python",
   "name": "python3"
  },
  "language_info": {
   "codemirror_mode": {
    "name": "ipython",
    "version": 3
   },
   "file_extension": ".py",
   "mimetype": "text/x-python",
   "name": "python",
   "nbconvert_exporter": "python",
   "pygments_lexer": "ipython3",
   "version": "3.5.3"
  },
  "widgets": {
   "state": {},
   "version": "1.1.2"
  }
 },
 "nbformat": 4,
 "nbformat_minor": 1
}
